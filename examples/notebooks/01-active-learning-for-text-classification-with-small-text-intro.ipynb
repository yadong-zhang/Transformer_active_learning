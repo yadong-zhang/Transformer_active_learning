{
 "cells": [
  {
   "cell_type": "markdown",
   "id": "bea8b7ed",
   "metadata": {},
   "source": [
    "# Active Learning for Text Classification using Small-Text\n",
    "## 01 - Introduction\n",
    "\n",
    "This tutorial shows how to use [small-text](https://github.com/webis-de/small-text) to perform active learning for text classification using state-of-the-art transformer models.\n",
    "\n",
    "\n",
    "### Installation\n",
    "\n",
    "Besides small-text, we also install [datasets](https://github.com/huggingface/datasets) to load an example dataset and [matptlotlib](https://matplotlib.org/) to plot the learning curves at the end."
   ]
  },
  {
   "cell_type": "code",
   "execution_count": 1,
   "id": "837556c3",
   "metadata": {
    "scrolled": true
   },
   "outputs": [
    {
     "name": "stdout",
     "output_type": "stream",
     "text": [
      "Requirement already satisfied: small-text[transformers]==1.0.0b2 in /home/cschroeder/.local/share/virtualenvs/notebooks-R6UeU-dP/lib/python3.8/site-packages (1.0.0b2)\n",
      "Requirement already satisfied: scipy in /home/cschroeder/.local/share/virtualenvs/notebooks-R6UeU-dP/lib/python3.8/site-packages (from small-text[transformers]==1.0.0b2) (1.7.2)\n",
      "Requirement already satisfied: tqdm in /home/cschroeder/.local/share/virtualenvs/notebooks-R6UeU-dP/lib/python3.8/site-packages (from small-text[transformers]==1.0.0b2) (4.62.3)\n",
      "Requirement already satisfied: scikit-learn>=0.24.1 in /home/cschroeder/.local/share/virtualenvs/notebooks-R6UeU-dP/lib/python3.8/site-packages (from small-text[transformers]==1.0.0b2) (1.0.1)\n",
      "Requirement already satisfied: numpy>=1.20.0 in /home/cschroeder/.local/share/virtualenvs/notebooks-R6UeU-dP/lib/python3.8/site-packages (from small-text[transformers]==1.0.0b2) (1.21.4)\n",
      "Requirement already satisfied: dill in /home/cschroeder/.local/share/virtualenvs/notebooks-R6UeU-dP/lib/python3.8/site-packages (from small-text[transformers]==1.0.0b2) (0.3.4)\n",
      "Requirement already satisfied: torch>=1.6.0; extra == \"transformers\" in /home/cschroeder/.local/share/virtualenvs/notebooks-R6UeU-dP/lib/python3.8/site-packages (from small-text[transformers]==1.0.0b2) (1.10.0)\n",
      "Requirement already satisfied: torchtext>=0.7.0; extra == \"transformers\" in /home/cschroeder/.local/share/virtualenvs/notebooks-R6UeU-dP/lib/python3.8/site-packages (from small-text[transformers]==1.0.0b2) (0.11.0)\n",
      "Requirement already satisfied: transformers>=4.0.0; extra == \"transformers\" in /home/cschroeder/.local/share/virtualenvs/notebooks-R6UeU-dP/lib/python3.8/site-packages (from small-text[transformers]==1.0.0b2) (4.12.3)\n",
      "Requirement already satisfied: joblib>=0.11 in /home/cschroeder/.local/share/virtualenvs/notebooks-R6UeU-dP/lib/python3.8/site-packages (from scikit-learn>=0.24.1->small-text[transformers]==1.0.0b2) (1.1.0)\n",
      "Requirement already satisfied: threadpoolctl>=2.0.0 in /home/cschroeder/.local/share/virtualenvs/notebooks-R6UeU-dP/lib/python3.8/site-packages (from scikit-learn>=0.24.1->small-text[transformers]==1.0.0b2) (3.0.0)\n",
      "Requirement already satisfied: typing-extensions in /home/cschroeder/.local/share/virtualenvs/notebooks-R6UeU-dP/lib/python3.8/site-packages (from torch>=1.6.0; extra == \"transformers\"->small-text[transformers]==1.0.0b2) (3.10.0.2)\n",
      "Requirement already satisfied: requests in /home/cschroeder/.local/share/virtualenvs/notebooks-R6UeU-dP/lib/python3.8/site-packages (from torchtext>=0.7.0; extra == \"transformers\"->small-text[transformers]==1.0.0b2) (2.26.0)\n",
      "Requirement already satisfied: huggingface-hub<1.0,>=0.1.0 in /home/cschroeder/.local/share/virtualenvs/notebooks-R6UeU-dP/lib/python3.8/site-packages (from transformers>=4.0.0; extra == \"transformers\"->small-text[transformers]==1.0.0b2) (0.1.2)\n",
      "Requirement already satisfied: sacremoses in /home/cschroeder/.local/share/virtualenvs/notebooks-R6UeU-dP/lib/python3.8/site-packages (from transformers>=4.0.0; extra == \"transformers\"->small-text[transformers]==1.0.0b2) (0.0.46)\n",
      "Requirement already satisfied: pyyaml>=5.1 in /home/cschroeder/.local/share/virtualenvs/notebooks-R6UeU-dP/lib/python3.8/site-packages (from transformers>=4.0.0; extra == \"transformers\"->small-text[transformers]==1.0.0b2) (6.0)\n",
      "Requirement already satisfied: packaging>=20.0 in /home/cschroeder/.local/share/virtualenvs/notebooks-R6UeU-dP/lib/python3.8/site-packages (from transformers>=4.0.0; extra == \"transformers\"->small-text[transformers]==1.0.0b2) (21.2)\n",
      "Requirement already satisfied: filelock in /home/cschroeder/.local/share/virtualenvs/notebooks-R6UeU-dP/lib/python3.8/site-packages (from transformers>=4.0.0; extra == \"transformers\"->small-text[transformers]==1.0.0b2) (3.3.2)\n",
      "Requirement already satisfied: regex!=2019.12.17 in /home/cschroeder/.local/share/virtualenvs/notebooks-R6UeU-dP/lib/python3.8/site-packages (from transformers>=4.0.0; extra == \"transformers\"->small-text[transformers]==1.0.0b2) (2021.11.10)\n",
      "Requirement already satisfied: tokenizers<0.11,>=0.10.1 in /home/cschroeder/.local/share/virtualenvs/notebooks-R6UeU-dP/lib/python3.8/site-packages (from transformers>=4.0.0; extra == \"transformers\"->small-text[transformers]==1.0.0b2) (0.10.3)\n",
      "Requirement already satisfied: urllib3<1.27,>=1.21.1 in /home/cschroeder/.local/share/virtualenvs/notebooks-R6UeU-dP/lib/python3.8/site-packages (from requests->torchtext>=0.7.0; extra == \"transformers\"->small-text[transformers]==1.0.0b2) (1.26.7)\n",
      "Requirement already satisfied: certifi>=2017.4.17 in /home/cschroeder/.local/share/virtualenvs/notebooks-R6UeU-dP/lib/python3.8/site-packages (from requests->torchtext>=0.7.0; extra == \"transformers\"->small-text[transformers]==1.0.0b2) (2021.10.8)\n",
      "Requirement already satisfied: idna<4,>=2.5; python_version >= \"3\" in /home/cschroeder/.local/share/virtualenvs/notebooks-R6UeU-dP/lib/python3.8/site-packages (from requests->torchtext>=0.7.0; extra == \"transformers\"->small-text[transformers]==1.0.0b2) (3.3)\n",
      "Requirement already satisfied: charset-normalizer~=2.0.0; python_version >= \"3\" in /home/cschroeder/.local/share/virtualenvs/notebooks-R6UeU-dP/lib/python3.8/site-packages (from requests->torchtext>=0.7.0; extra == \"transformers\"->small-text[transformers]==1.0.0b2) (2.0.7)\n",
      "Requirement already satisfied: click in /home/cschroeder/.local/share/virtualenvs/notebooks-R6UeU-dP/lib/python3.8/site-packages (from sacremoses->transformers>=4.0.0; extra == \"transformers\"->small-text[transformers]==1.0.0b2) (8.0.3)\n",
      "Requirement already satisfied: six in /home/cschroeder/.local/share/virtualenvs/notebooks-R6UeU-dP/lib/python3.8/site-packages (from sacremoses->transformers>=4.0.0; extra == \"transformers\"->small-text[transformers]==1.0.0b2) (1.16.0)\n",
      "Requirement already satisfied: pyparsing<3,>=2.0.2 in /home/cschroeder/.local/share/virtualenvs/notebooks-R6UeU-dP/lib/python3.8/site-packages (from packaging>=20.0->transformers>=4.0.0; extra == \"transformers\"->small-text[transformers]==1.0.0b2) (2.4.7)\n",
      "Note: you may need to restart the kernel to use updated packages.\n",
      "Requirement already satisfied: datasets in /home/cschroeder/.local/share/virtualenvs/notebooks-R6UeU-dP/lib/python3.8/site-packages (1.15.1)\n",
      "Requirement already satisfied: matplotlib in /home/cschroeder/.local/share/virtualenvs/notebooks-R6UeU-dP/lib/python3.8/site-packages (3.4.3)\n",
      "Requirement already satisfied: seaborn in /home/cschroeder/.local/share/virtualenvs/notebooks-R6UeU-dP/lib/python3.8/site-packages (0.11.2)\n",
      "Requirement already satisfied: requests>=2.19.0 in /home/cschroeder/.local/share/virtualenvs/notebooks-R6UeU-dP/lib/python3.8/site-packages (from datasets) (2.26.0)\n",
      "Requirement already satisfied: aiohttp in /home/cschroeder/.local/share/virtualenvs/notebooks-R6UeU-dP/lib/python3.8/site-packages (from datasets) (3.8.0)\n",
      "Requirement already satisfied: pyarrow!=4.0.0,>=1.0.0 in /home/cschroeder/.local/share/virtualenvs/notebooks-R6UeU-dP/lib/python3.8/site-packages (from datasets) (6.0.0)\n",
      "Requirement already satisfied: pandas in /home/cschroeder/.local/share/virtualenvs/notebooks-R6UeU-dP/lib/python3.8/site-packages (from datasets) (1.3.4)\n",
      "Requirement already satisfied: numpy>=1.17 in /home/cschroeder/.local/share/virtualenvs/notebooks-R6UeU-dP/lib/python3.8/site-packages (from datasets) (1.21.4)\n",
      "Requirement already satisfied: xxhash in /home/cschroeder/.local/share/virtualenvs/notebooks-R6UeU-dP/lib/python3.8/site-packages (from datasets) (2.0.2)\n",
      "Requirement already satisfied: multiprocess in /home/cschroeder/.local/share/virtualenvs/notebooks-R6UeU-dP/lib/python3.8/site-packages (from datasets) (0.70.12.2)\n",
      "Requirement already satisfied: packaging in /home/cschroeder/.local/share/virtualenvs/notebooks-R6UeU-dP/lib/python3.8/site-packages (from datasets) (21.2)\n",
      "Requirement already satisfied: fsspec[http]>=2021.05.0 in /home/cschroeder/.local/share/virtualenvs/notebooks-R6UeU-dP/lib/python3.8/site-packages (from datasets) (2021.11.0)\n",
      "Requirement already satisfied: huggingface-hub<1.0.0,>=0.1.0 in /home/cschroeder/.local/share/virtualenvs/notebooks-R6UeU-dP/lib/python3.8/site-packages (from datasets) (0.1.2)\n",
      "Requirement already satisfied: dill in /home/cschroeder/.local/share/virtualenvs/notebooks-R6UeU-dP/lib/python3.8/site-packages (from datasets) (0.3.4)\n",
      "Requirement already satisfied: tqdm>=4.62.1 in /home/cschroeder/.local/share/virtualenvs/notebooks-R6UeU-dP/lib/python3.8/site-packages (from datasets) (4.62.3)\n",
      "Requirement already satisfied: cycler>=0.10 in /home/cschroeder/.local/share/virtualenvs/notebooks-R6UeU-dP/lib/python3.8/site-packages (from matplotlib) (0.11.0)\n",
      "Requirement already satisfied: pillow>=6.2.0 in /home/cschroeder/.local/share/virtualenvs/notebooks-R6UeU-dP/lib/python3.8/site-packages (from matplotlib) (8.4.0)\n",
      "Requirement already satisfied: python-dateutil>=2.7 in /home/cschroeder/.local/share/virtualenvs/notebooks-R6UeU-dP/lib/python3.8/site-packages (from matplotlib) (2.8.2)\n",
      "Requirement already satisfied: pyparsing>=2.2.1 in /home/cschroeder/.local/share/virtualenvs/notebooks-R6UeU-dP/lib/python3.8/site-packages (from matplotlib) (2.4.7)\n",
      "Requirement already satisfied: kiwisolver>=1.0.1 in /home/cschroeder/.local/share/virtualenvs/notebooks-R6UeU-dP/lib/python3.8/site-packages (from matplotlib) (1.3.2)\n",
      "Requirement already satisfied: scipy>=1.0 in /home/cschroeder/.local/share/virtualenvs/notebooks-R6UeU-dP/lib/python3.8/site-packages (from seaborn) (1.7.2)\n",
      "Requirement already satisfied: certifi>=2017.4.17 in /home/cschroeder/.local/share/virtualenvs/notebooks-R6UeU-dP/lib/python3.8/site-packages (from requests>=2.19.0->datasets) (2021.10.8)\n",
      "Requirement already satisfied: idna<4,>=2.5; python_version >= \"3\" in /home/cschroeder/.local/share/virtualenvs/notebooks-R6UeU-dP/lib/python3.8/site-packages (from requests>=2.19.0->datasets) (3.3)\n",
      "Requirement already satisfied: urllib3<1.27,>=1.21.1 in /home/cschroeder/.local/share/virtualenvs/notebooks-R6UeU-dP/lib/python3.8/site-packages (from requests>=2.19.0->datasets) (1.26.7)\n",
      "Requirement already satisfied: charset-normalizer~=2.0.0; python_version >= \"3\" in /home/cschroeder/.local/share/virtualenvs/notebooks-R6UeU-dP/lib/python3.8/site-packages (from requests>=2.19.0->datasets) (2.0.7)\n",
      "Requirement already satisfied: attrs>=17.3.0 in /home/cschroeder/.local/share/virtualenvs/notebooks-R6UeU-dP/lib/python3.8/site-packages (from aiohttp->datasets) (21.2.0)\n"
     ]
    },
    {
     "name": "stdout",
     "output_type": "stream",
     "text": [
      "Requirement already satisfied: yarl<2.0,>=1.0 in /home/cschroeder/.local/share/virtualenvs/notebooks-R6UeU-dP/lib/python3.8/site-packages (from aiohttp->datasets) (1.7.2)\n",
      "Requirement already satisfied: multidict<7.0,>=4.5 in /home/cschroeder/.local/share/virtualenvs/notebooks-R6UeU-dP/lib/python3.8/site-packages (from aiohttp->datasets) (5.2.0)\n",
      "Requirement already satisfied: aiosignal>=1.1.2 in /home/cschroeder/.local/share/virtualenvs/notebooks-R6UeU-dP/lib/python3.8/site-packages (from aiohttp->datasets) (1.2.0)\n",
      "Requirement already satisfied: async-timeout<5.0,>=4.0.0a3 in /home/cschroeder/.local/share/virtualenvs/notebooks-R6UeU-dP/lib/python3.8/site-packages (from aiohttp->datasets) (4.0.1)\n",
      "Requirement already satisfied: frozenlist>=1.1.1 in /home/cschroeder/.local/share/virtualenvs/notebooks-R6UeU-dP/lib/python3.8/site-packages (from aiohttp->datasets) (1.2.0)\n",
      "Requirement already satisfied: pytz>=2017.3 in /home/cschroeder/.local/share/virtualenvs/notebooks-R6UeU-dP/lib/python3.8/site-packages (from pandas->datasets) (2021.3)\n",
      "Requirement already satisfied: pyyaml in /home/cschroeder/.local/share/virtualenvs/notebooks-R6UeU-dP/lib/python3.8/site-packages (from huggingface-hub<1.0.0,>=0.1.0->datasets) (6.0)\n",
      "Requirement already satisfied: typing-extensions>=3.7.4.3 in /home/cschroeder/.local/share/virtualenvs/notebooks-R6UeU-dP/lib/python3.8/site-packages (from huggingface-hub<1.0.0,>=0.1.0->datasets) (3.10.0.2)\n",
      "Requirement already satisfied: filelock in /home/cschroeder/.local/share/virtualenvs/notebooks-R6UeU-dP/lib/python3.8/site-packages (from huggingface-hub<1.0.0,>=0.1.0->datasets) (3.3.2)\n",
      "Requirement already satisfied: six>=1.5 in /home/cschroeder/.local/share/virtualenvs/notebooks-R6UeU-dP/lib/python3.8/site-packages (from python-dateutil>=2.7->matplotlib) (1.16.0)\n",
      "Note: you may need to restart the kernel to use updated packages.\n"
     ]
    }
   ],
   "source": [
    "%pip install small-text[transformers]==1.0.0b3  # use \"small-text\" without \"[transformers]\" if you want to work on the CPU only\n",
    "\n",
    "# additional dependencies for this example\n",
    "%pip install datasets matplotlib seaborn"
   ]
  },
  {
   "cell_type": "markdown",
   "id": "658cddec",
   "metadata": {},
   "source": [
    "### Preparation\n",
    "\n",
    "Here we configure the loggging and display progress bars display of the `datasets` library to improve its appearance in the notebook. You can skip this when reading for the first time if you are only interested in active learning."
   ]
  },
  {
   "cell_type": "code",
   "execution_count": 2,
   "id": "13170d96",
   "metadata": {},
   "outputs": [],
   "source": [
    "import datasets\n",
    "datasets.logging.set_verbosity_error()\n",
    "\n",
    "# disables the progress bar for notebooks: https://github.com/huggingface/datasets/issues/2651\n",
    "datasets.logging.get_verbosity = lambda: logging.NOTSET"
   ]
  },
  {
   "cell_type": "markdown",
   "id": "1c35a787",
   "metadata": {},
   "source": [
    "Moreover, we update the default matplotlib settings to receive a more visually appealing plot at the end of this tutorial."
   ]
  },
  {
   "cell_type": "code",
   "execution_count": 3,
   "id": "269ce876",
   "metadata": {},
   "outputs": [],
   "source": [
    "from matplotlib import rcParams\n",
    "rcParams.update({'xtick.labelsize': 14, 'ytick.labelsize': 14, 'axes.labelsize': 16})"
   ]
  },
  {
   "cell_type": "markdown",
   "id": "741d6d3f",
   "metadata": {},
   "source": [
    "Finally, we will fix the random seeds so that readers do not get confused when the results change upon repeated execution."
   ]
  },
  {
   "cell_type": "code",
   "execution_count": 4,
   "id": "e7be9231",
   "metadata": {},
   "outputs": [],
   "source": [
    "import torch\n",
    "import numpy as np\n",
    "\n",
    "seed = 2022\n",
    "torch.manual_seed(seed)\n",
    "np.random.seed(seed)"
   ]
  },
  {
   "cell_type": "markdown",
   "id": "bdf5fd19",
   "metadata": {},
   "source": [
    "### Loading the Data\n",
    "\n",
    "First we load rotten tomatoes dataset. This dataset contains movie reviews sentences, which are labeled by their sentiment as either positive or negative."
   ]
  },
  {
   "cell_type": "code",
   "execution_count": 5,
   "id": "754e5b56",
   "metadata": {},
   "outputs": [
    {
     "name": "stdout",
     "output_type": "stream",
     "text": [
      "First 10 training samples:\n",
      "\n",
      "1   the rock is destined to be the 21st century's new \" conan \" and that he's going to make a splash even greater than arnold schwarzenegger , jean-claud van damme or steven segal .\n",
      "1   the gorgeously elaborate continuation of \" the lord of the rings \" trilogy is so huge that a column of words cannot adequately describe co-writer/director peter jackson's expanded vision of j . r . r . tolkien's middle-earth .\n",
      "1   effective but too-tepid biopic\n",
      "1   if you sometimes like to go to the movies to have fun , wasabi is a good place to start .\n",
      "1   emerges as something rare , an issue movie that's so honest and keenly observed that it doesn't feel like one .\n",
      "1   the film provides some great insight into the neurotic mindset of all comics -- even those who have reached the absolute top of the game .\n",
      "1   offers that rare combination of entertainment and education .\n",
      "1   perhaps no picture ever made has more literally showed that the road to hell is paved with good intentions .\n",
      "1   steers turns in a snappy screenplay that curls at the edges ; it's so clever you want to hate it . but he somehow pulls it off .\n",
      "1   take care of my cat offers a refreshingly different slice of asian cinema .\n"
     ]
    }
   ],
   "source": [
    "import logging\n",
    "\n",
    "raw_dataset = datasets.load_dataset('rotten_tomatoes')\n",
    "num_classes = np.unique(raw_dataset['train']['label']).shape[0]\n",
    "\n",
    "print('First 10 training samples:\\n')\n",
    "for i in range(10):\n",
    "    print(raw_dataset['train']['label'][i], ' ', raw_dataset['train']['text'][i])"
   ]
  },
  {
   "cell_type": "markdown",
   "id": "1742f7d7",
   "metadata": {},
   "source": [
    "### Preparing the Data\n",
    "\n",
    "Next, we have to convert this raw text data into a format usable by small-text. Since the transformer-based classification in small-text uses huggingface transformers this step is pretty similar to the preprocessing you may know from transformers, with the addition that the end result must be a `TransformersDataset`. In this example, we use `bert-base-uncased` as transformer model."
   ]
  },
  {
   "cell_type": "code",
   "execution_count": 6,
   "id": "2c52f326",
   "metadata": {},
   "outputs": [],
   "source": [
    "from transformers import AutoTokenizer\n",
    "\n",
    "transformer_model_name = 'bert-base-uncased'\n",
    "\n",
    "tokenizer = AutoTokenizer.from_pretrained(\n",
    "    transformer_model_name\n",
    ")"
   ]
  },
  {
   "cell_type": "markdown",
   "id": "3252a546",
   "metadata": {},
   "source": [
    "We define a small helper function `get_transformers_dataset()` with delegates to `tokenizer.encode_plus()` and finally builds a `TransformersDataset` instance. "
   ]
  },
  {
   "cell_type": "code",
   "execution_count": 7,
   "id": "be151ce8",
   "metadata": {},
   "outputs": [],
   "source": [
    "from small_text.integrations.transformers.datasets import TransformersDataset\n",
    "\n",
    "\n",
    "def get_transformers_dataset(tokenizer, data, labels, max_length=60):\n",
    "\n",
    "    data_out = []\n",
    "\n",
    "    for i, doc in enumerate(data):\n",
    "        encoded_dict = tokenizer.encode_plus(\n",
    "            doc,\n",
    "            add_special_tokens=True,\n",
    "            padding='max_length',\n",
    "            max_length=max_length,\n",
    "            return_attention_mask=True,\n",
    "            return_tensors='pt',\n",
    "            truncation='longest_first'\n",
    "        )\n",
    "\n",
    "        data_out.append((encoded_dict['input_ids'], encoded_dict['attention_mask'], labels[i]))\n",
    "\n",
    "    return TransformersDataset(data_out)\n",
    "\n",
    "\n",
    "train = get_transformers_dataset(tokenizer, raw_dataset['train']['text'], raw_dataset['train']['label'])\n",
    "test = get_transformers_dataset(tokenizer, raw_dataset['test']['text'], raw_dataset['test']['label'])"
   ]
  },
  {
   "cell_type": "markdown",
   "id": "017ebf3d",
   "metadata": {},
   "source": [
    "### Setting up the Active Learner\n",
    "\n",
    "Now we constrauct a `PoolBasedActiveLearner` instance which requires a classifier factory, a query strategy, and the train dataset.\n",
    "\n",
    "To obtain a first model, we initialize the active learner by providing the true labels for 10 sentences. This corresponds to an initial labeling the real-world setting."
   ]
  },
  {
   "cell_type": "code",
   "execution_count": 8,
   "id": "66774521",
   "metadata": {},
   "outputs": [],
   "source": [
    "from small_text.active_learner import PoolBasedActiveLearner\n",
    "\n",
    "from small_text.initialization import random_initialization_balanced\n",
    "from small_text.integrations.transformers import TransformerModelArguments\n",
    "from small_text.integrations.transformers.classifiers.factories import TransformerBasedClassificationFactory\n",
    "from small_text.query_strategies import PredictionEntropy\n",
    "from small_text.integrations.transformers import TransformerModelArguments\n",
    "\n",
    "\n",
    "# simulates an initial labeling to warm-start the active learning process\n",
    "def initialize_active_learner(active_learner, y_train):\n",
    "\n",
    "    indices_initial = random_initialization_balanced(y_train, n_samples=20)\n",
    "    active_learner.initialize_data(indices_initial, y_train[indices_initial])\n",
    "\n",
    "    return indices_initial\n",
    "\n",
    "\n",
    "\n",
    "transformer_model = TransformerModelArguments(transformer_model_name)\n",
    "clf_factory = TransformerBasedClassificationFactory(transformer_model, \n",
    "                                                    num_classes, \n",
    "                                                    kwargs=dict({'device': 'cuda', \n",
    "                                                                 'mini_batch_size': 32,\n",
    "                                                                 'class_weight': 'balanced'\n",
    "                                                                }))\n",
    "query_strategy = PredictionEntropy()\n",
    "\n",
    "active_learner = PoolBasedActiveLearner(clf_factory, query_strategy, train)\n",
    "indices_labeled = initialize_active_learner(active_learner, train.y)"
   ]
  },
  {
   "cell_type": "markdown",
   "id": "e8888591",
   "metadata": {},
   "source": [
    "### Active Learning Loop\n",
    "\n",
    "The main active learning loop queries the unlabeled pool and thereby decides which documents are labeled next.\n",
    "We then provide the labels for those documents and the active learner retrains the model.\n",
    "After each query, we evaluate the current model against the test set and save the result.\n",
    "\n",
    "\n",
    "Note: This is active learning as it is done in a scientific simulation. In reality, the label feedback would have been given by human annotators, and moreover, we would not be able to measure the test accuracy."
   ]
  },
  {
   "cell_type": "code",
   "execution_count": 9,
   "id": "aacd866c",
   "metadata": {},
   "outputs": [
    {
     "name": "stdout",
     "output_type": "stream",
     "text": [
      "Train accuracy: 0.60\n",
      "Test accuracy: 0.49\n",
      "---------------\n",
      "Iteration #0 (40 samples)\n",
      "Train accuracy: 0.95\n",
      "Test accuracy: 0.58\n",
      "---------------\n",
      "Iteration #1 (60 samples)\n",
      "Train accuracy: 0.97\n",
      "Test accuracy: 0.64\n",
      "---------------\n",
      "Iteration #2 (80 samples)\n",
      "Train accuracy: 0.69\n",
      "Test accuracy: 0.51\n",
      "---------------\n",
      "Iteration #3 (100 samples)\n",
      "Train accuracy: 0.97\n",
      "Test accuracy: 0.70\n",
      "---------------\n",
      "Iteration #4 (120 samples)\n",
      "Train accuracy: 0.97\n",
      "Test accuracy: 0.71\n",
      "---------------\n",
      "Iteration #5 (140 samples)\n",
      "Train accuracy: 0.97\n",
      "Test accuracy: 0.72\n",
      "---------------\n",
      "Iteration #6 (160 samples)\n",
      "Train accuracy: 0.97\n",
      "Test accuracy: 0.75\n",
      "---------------\n",
      "Iteration #7 (180 samples)\n",
      "Train accuracy: 0.86\n",
      "Test accuracy: 0.68\n",
      "---------------\n",
      "Iteration #8 (200 samples)\n",
      "Train accuracy: 0.97\n",
      "Test accuracy: 0.75\n",
      "---------------\n",
      "Iteration #9 (220 samples)\n",
      "Train accuracy: 1.00\n",
      "Test accuracy: 0.81\n"
     ]
    }
   ],
   "source": [
    "from sklearn.metrics import accuracy_score\n",
    "\n",
    "\n",
    "num_queries = 10\n",
    "\n",
    "\n",
    "def evaluate(active_learner, train, test):\n",
    "    y_pred = active_learner.classifier.predict(train)\n",
    "    y_pred_test = active_learner.classifier.predict(test)\n",
    "    \n",
    "    test_acc = accuracy_score(y_pred_test, test.y)\n",
    "\n",
    "    print('Train accuracy: {:.2f}'.format(accuracy_score(y_pred, train.y)))\n",
    "    print('Test accuracy: {:.2f}'.format(test_acc))\n",
    "    \n",
    "    return test_acc\n",
    "\n",
    "\n",
    "results = []\n",
    "results.append(evaluate(active_learner, train[indices_labeled], test))\n",
    "\n",
    "    \n",
    "for i in range(num_queries):\n",
    "    # ...where each iteration consists of labelling 20 samples\n",
    "    indices_queried = active_learner.query(num_samples=20)\n",
    "\n",
    "    # Simulate user interaction here. Replace this for real-world usage.\n",
    "    y = train.y[indices_queried]\n",
    "\n",
    "    # Return the labels for the current query to the active learner.\n",
    "    active_learner.update(y)\n",
    "\n",
    "    indices_labeled = np.concatenate([indices_queried, indices_labeled])\n",
    "    \n",
    "    print('---------------')\n",
    "    print(f'Iteration #{i} ({len(indices_labeled)} samples)')\n",
    "    results.append(evaluate(active_learner, train[indices_labeled], test))\n"
   ]
  },
  {
   "cell_type": "markdown",
   "id": "5eeb9a63",
   "metadata": {},
   "source": [
    "### Plotting the Results\n",
    "\n",
    "Using the previously saved results we can plot a [learning curve](https://en.wikipedia.org/wiki/Learning_curve_(machine_learning)) to visualize the resulting accuracy on the test set."
   ]
  },
  {
   "cell_type": "code",
   "execution_count": 10,
   "id": "278c1d13",
   "metadata": {},
   "outputs": [
    {
     "data": {
      "image/png": "[encoded data removed]",
      "text/plain": [
       "<Figure size 864x576 with 1 Axes>"
      ]
     },
     "metadata": {
      "needs_background": "light"
     },
     "output_type": "display_data"
    }
   ],
   "source": [
    "%matplotlib inline\n",
    "import seaborn as sns\n",
    "import matplotlib.pyplot as plt\n",
    "\n",
    "fig = plt.figure(figsize=(12, 8))\n",
    "ax = plt.axes()\n",
    "\n",
    "data = np.vstack((np.arange(num_queries+1), np.array(results)))\n",
    "sns.lineplot(x=0, y=1, data=data)\n",
    "\n",
    "plt.xlabel('number of queries', labelpad=15)\n",
    "plt.ylabel('test accuracy', labelpad=25)\n",
    "\n",
    "sns.despine()"
   ]
  },
  {
   "cell_type": "code",
   "execution_count": null,
   "id": "664f82ef",
   "metadata": {},
   "outputs": [],
   "source": []
  }
 ],
 "metadata": {
  "kernelspec": {
   "display_name": "Python 3 (ipykernel)",
   "language": "python",
   "name": "python3"
  },
  "language_info": {
   "codemirror_mode": {
    "name": "ipython",
    "version": 3
   },
   "file_extension": ".py",
   "mimetype": "text/x-python",
   "name": "python",
   "nbconvert_exporter": "python",
   "pygments_lexer": "ipython3",
   "version": "3.8.2"
  }
 },
 "nbformat": 4,
 "nbformat_minor": 5
}